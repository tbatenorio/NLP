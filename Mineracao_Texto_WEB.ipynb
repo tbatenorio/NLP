{
 "cells": [
  {
   "cell_type": "markdown",
   "metadata": {},
   "source": [
    "Aluno: **Thiago Brito de Andrade Tenório**\n",
    "\n",
    "Turma: **Dados 2023.1**"
   ]
  },
  {
   "cell_type": "code",
   "execution_count": 45,
   "metadata": {},
   "outputs": [],
   "source": [
    "from selenium import webdriver\n",
    "from selenium.webdriver.chrome.service import Service\n",
    "import pandas as pd\n",
    "from webdriver_manager.chrome import ChromeDriverManager"
   ]
  },
  {
   "cell_type": "code",
   "execution_count": 46,
   "metadata": {},
   "outputs": [],
   "source": [
    "#Serviço Responsavel por baixar versao mais atual do Chrome que será usada na aplicação (Evita a necessidade de baixar o arquivo chromedriver.exe manualmente)\n",
    "servico = Service(ChromeDriverManager().install())\n",
    "navegador = webdriver.Chrome(service = servico)\n",
    "\n",
    "#Abre link do Site\n",
    "navegador.get('https://pt.wikipedia.org/')\n",
    "#Busca pelo elemento referente ao Buscador e Passa a palavra de busca\n",
    "navegador.find_element('xpath', '//*[@id=\"searchInput\"]').send_keys('cesar') "
   ]
  },
  {
   "cell_type": "code",
   "execution_count": 48,
   "metadata": {},
   "outputs": [],
   "source": [
    "#Clico do Botão \"Pesquisar\"\n",
    "navegador.find_element('xpath', '//*[@id=\"searchform\"]/div/button').click() \n",
    "#Clico no Link da Instituição\n",
    "navegador.find_element('xpath', '//*[@id=\"mw-content-text\"]/div[1]/ul[4]/li[2]/a').click()"
   ]
  },
  {
   "cell_type": "code",
   "execution_count": 49,
   "metadata": {},
   "outputs": [],
   "source": [
    "import requests\n",
    "from bs4 import BeautifulSoup\n",
    "\n",
    "link = navegador.current_url\n",
    "requisicao = requests.get(link)\n",
    "\n",
    "#Obtem o código html da Página que queremos buscar informações\n",
    "pagina = BeautifulSoup(requisicao.text, \"html.parser\")\n",
    "\n",
    "#Printa a Pagina numa formatação indentada e de Fácil visualização\n",
    "#print(pagina.prettify())"
   ]
  },
  {
   "cell_type": "code",
   "execution_count": 50,
   "metadata": {},
   "outputs": [],
   "source": [
    "#Varredura da Tabela de Cursos na Página\n",
    "\n",
    "table = pagina.find('table', class_='wikitable')\n",
    "\n",
    "# Lista para armazenar os cursos/programas\n",
    "cursos_programas = []\n",
    "\n",
    "# Iterar sobre as linhas da tabela\n",
    "for linha in table.find_all('tr'):\n",
    "    \n",
    "    if linha.find('td'):\n",
    "        # Obter o texto dentro da célula <td> e adicionar à lista\n",
    "        curso_programa = linha.find('td').get_text(strip=True)\n",
    "        cursos_programas.append(curso_programa)\n",
    "\n",
    "graduacao_01        = cursos_programas[0]\n",
    "graduacao_02        = cursos_programas[1]\n",
    "metrado_01          = cursos_programas[2]\n",
    "mestrado_01         = cursos_programas[3]\n",
    "doutorado_01        = cursos_programas[4]        "
   ]
  },
  {
   "cell_type": "code",
   "execution_count": 51,
   "metadata": {},
   "outputs": [],
   "source": [
    "#Buscar dados do quadro superior Direito\n",
    "\n",
    "table = pagina.find('table', class_='infobox infobox infobox_v2')\n",
    "# Inicializar variáveis\n",
    "tipo = None\n",
    "data_fundacao = None\n",
    "local_fundacao = None\n",
    "fundadores = None\n",
    "fundador_01 = None\n",
    "fundador_02 = None\n",
    "fundador_03 = None\n",
    "ceo = None\n",
    "coo = None\n",
    "organizadores = None\n",
    "numero_funcionarios = None\n",
    "flag = None\n",
    "\n",
    "# Iterar sobre as linhas da tabela\n",
    "for linha in table.find_all('td'):\n",
    "       \n",
    "    # Obter o texto dentro da célula <td> e adicionar à lista\n",
    "    match flag:\n",
    "        case \"Tipo\":\n",
    "            tipo = linha.get_text(strip=True)\n",
    "        \n",
    "        case \"Sede\":\n",
    "            local_fundacao = linha.get_text(strip=True)  \n",
    "\n",
    "        case \"Fundação\":\n",
    "            data_fundacao = linha.get_text(strip=True)\n",
    "            fim = data_fundacao.find(\"(\")\n",
    "            data_fundacao = data_fundacao[:fim]\n",
    "\n",
    "        case \"Fundadores\":\n",
    "            fundadores = linha.get_text(strip=True)\n",
    "\n",
    "        case \"Organização\":\n",
    "            organizadores = linha.get_text(strip=True)\n",
    "            \n",
    "        case \"Empregados\":\n",
    "            numero_funcionarios = linha.get_text(strip=True)\n",
    "            numero_funcionarios = numero_funcionarios[:numero_funcionarios.find(\"(\")]\n",
    "                             \n",
    "    \n",
    "    flag = linha.get_text(strip=True)\n",
    " \n",
    "#Obtem Site da Instituição\n",
    "site = pagina.find(\"a\", class_=\"external free\").text   \n",
    "\n",
    "# Registrar Informações dos Fundadores:\n",
    "posicao_um = fundadores.find(\",\")\n",
    "posicao_dois = fundadores.find(\" e\")\n",
    "\n",
    "if posicao_um != -1:\n",
    "    fundador_01 = fundadores[:posicao_um]\n",
    "    fundador_02 = fundadores[posicao_um + 1:posicao_dois +1]\n",
    "    fundador_03 = fundadores[posicao_dois +2:]\n",
    "    \n",
    "\n",
    "# Registrar Informações dos Organizadores:\n",
    "posicao_ceo = organizadores.find(\"(CEO)\")\n",
    "# Verificar se \"(COO)\" foi encontrado\n",
    "if posicao_ceo != -1:\n",
    "    # Dividir a string com base na posição de \"(COO)\"\n",
    "    ceo = organizadores[:posicao_ceo] + \"(CEO)\"\n",
    "    coo = organizadores[posicao_ceo+5:]"
   ]
  },
  {
   "cell_type": "code",
   "execution_count": 52,
   "metadata": {},
   "outputs": [
    {
     "name": "stdout",
     "output_type": "stream",
     "text": [
      "\n",
      "      O CESAR é um Instituto de pesquisa sem fins lucrativos fundado em 20 de maiode1996 por Silvio Meira,  Fábio Silva ,  Ismar Kaufman\n",
      "      em Recife,PE. Segundo os dados coletados, Eduardo Peixoto (CEO) e Karla Godoy (COO) são os chefes da organização\n",
      "      que tem 600+. O CESAR possui cursos de Ciência da Computação, Design, Engenharia de Software,\n",
      "      Design de Artefatos Digitais, Engenharia de Software. Para mais detalhes dessa instituição incrível, acesse http://www.cesar.org.br\n",
      "\n"
     ]
    }
   ],
   "source": [
    "#Montagem do Texto Final\n",
    " \n",
    "print(f\"\"\"\n",
    "      O CESAR é um {tipo} fundado em {data_fundacao} por {fundador_01}, {fundador_02}, {fundador_03}\n",
    "      em {local_fundacao}. Segundo os dados coletados, {ceo} e {coo} são os chefes da organização\n",
    "      que tem {numero_funcionarios}. O CESAR possui cursos de {graduacao_01}, {graduacao_02}, {metrado_01},\n",
    "      {mestrado_01}, {doutorado_01}. Para mais detalhes dessa instituição incrível, acesse {site}\n",
    "\"\"\")"
   ]
  }
 ],
 "metadata": {
  "kernelspec": {
   "display_name": "Python 3",
   "language": "python",
   "name": "python3"
  },
  "language_info": {
   "codemirror_mode": {
    "name": "ipython",
    "version": 3
   },
   "file_extension": ".py",
   "mimetype": "text/x-python",
   "name": "python",
   "nbconvert_exporter": "python",
   "pygments_lexer": "ipython3",
   "version": "3.12.0"
  }
 },
 "nbformat": 4,
 "nbformat_minor": 2
}
